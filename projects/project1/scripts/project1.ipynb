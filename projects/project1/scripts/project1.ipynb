{
 "cells": [
  {
   "cell_type": "code",
   "execution_count": 5,
   "metadata": {
    "collapsed": true
   },
   "outputs": [
    {
     "name": "stdout",
     "output_type": "stream",
     "text": [
      "The autoreload extension is already loaded. To reload it, use:\n",
      "  %reload_ext autoreload\n"
     ]
    }
   ],
   "source": [
    "# Useful starting lines\n",
    "%matplotlib inline\n",
    "import numpy as np\n",
    "import matplotlib.pyplot as plt\n",
    "%load_ext autoreload\n",
    "%autoreload 2"
   ]
  },
  {
   "cell_type": "markdown",
   "metadata": {},
   "source": [
    "## Load the training data into feature matrix, class labels, and event ids:"
   ]
  },
  {
   "cell_type": "code",
   "execution_count": 36,
   "metadata": {
    "collapsed": false
   },
   "outputs": [],
   "source": [
    "from proj1_helpers import *"
   ]
  },
  {
   "cell_type": "code",
   "execution_count": 37,
   "metadata": {},
   "outputs": [],
   "source": [
    "DATA_TRAIN_PATH = '../data/train.csv' # TODO: download train data and supply path here \n",
    "y, tX, ids = load_csv_data(DATA_TRAIN_PATH)"
   ]
  },
  {
   "cell_type": "markdown",
   "metadata": {},
   "source": [
    "## Do your thing crazy machine learning thing here :) ..."
   ]
  },
  {
   "cell_type": "code",
   "execution_count": 38,
   "metadata": {},
   "outputs": [],
   "source": [
    "from implementations import *"
   ]
  },
  {
   "cell_type": "code",
   "execution_count": 47,
   "metadata": {},
   "outputs": [
    {
     "name": "stdout",
     "output_type": "stream",
     "text": [
      "Stochastic Gradient Descent(0/49): loss=0.5\n",
      "Stochastic Gradient Descent(1/49): loss=0.18516395507806604\n",
      "Stochastic Gradient Descent(2/49): loss=0.5847242797018471\n",
      "Stochastic Gradient Descent(3/49): loss=0.4834424125668792\n",
      "Stochastic Gradient Descent(4/49): loss=0.42129825671555027\n",
      "Stochastic Gradient Descent(5/49): loss=0.11874183201580686\n",
      "Stochastic Gradient Descent(6/49): loss=0.7140036903166194\n",
      "Stochastic Gradient Descent(7/49): loss=1.583429857751732\n",
      "Stochastic Gradient Descent(8/49): loss=0.5662010600598221\n",
      "Stochastic Gradient Descent(9/49): loss=0.39777846299552355\n",
      "Stochastic Gradient Descent(10/49): loss=0.4617355135766934\n",
      "Stochastic Gradient Descent(11/49): loss=0.7210299484788145\n",
      "Stochastic Gradient Descent(12/49): loss=0.12877196864256976\n",
      "Stochastic Gradient Descent(13/49): loss=0.0547631993102786\n",
      "Stochastic Gradient Descent(14/49): loss=0.018814295751781743\n",
      "Stochastic Gradient Descent(15/49): loss=0.0069968818110162315\n",
      "Stochastic Gradient Descent(16/49): loss=0.42851151294549716\n",
      "Stochastic Gradient Descent(17/49): loss=0.0005725573355126094\n",
      "Stochastic Gradient Descent(18/49): loss=1.963792738560994\n",
      "Stochastic Gradient Descent(19/49): loss=0.6963048138152866\n",
      "Stochastic Gradient Descent(20/49): loss=0.7276281845367231\n",
      "Stochastic Gradient Descent(21/49): loss=0.531311298060699\n",
      "Stochastic Gradient Descent(22/49): loss=0.832665227404362\n",
      "Stochastic Gradient Descent(23/49): loss=0.43811099063779024\n",
      "Stochastic Gradient Descent(24/49): loss=0.31996120500764197\n",
      "Stochastic Gradient Descent(25/49): loss=0.20502332306072651\n",
      "Stochastic Gradient Descent(26/49): loss=0.06958020068833393\n",
      "Stochastic Gradient Descent(27/49): loss=0.024025638723337312\n",
      "Stochastic Gradient Descent(28/49): loss=1.590379986430992\n",
      "Stochastic Gradient Descent(29/49): loss=0.3165387493552912\n",
      "Stochastic Gradient Descent(30/49): loss=0.8005121227526585\n",
      "Stochastic Gradient Descent(31/49): loss=0.29827393086109083\n",
      "Stochastic Gradient Descent(32/49): loss=1.0612721607483888\n",
      "Stochastic Gradient Descent(33/49): loss=0.7029211922502097\n",
      "Stochastic Gradient Descent(34/49): loss=0.6306651123840267\n",
      "Stochastic Gradient Descent(35/49): loss=0.4996829647184811\n",
      "Stochastic Gradient Descent(36/49): loss=0.5250466081570667\n",
      "Stochastic Gradient Descent(37/49): loss=0.532271632421604\n",
      "Stochastic Gradient Descent(38/49): loss=0.2540384773932443\n",
      "Stochastic Gradient Descent(39/49): loss=1.4200260013837476\n",
      "Stochastic Gradient Descent(40/49): loss=0.4885519467453402\n",
      "Stochastic Gradient Descent(41/49): loss=0.1735635676286126\n",
      "Stochastic Gradient Descent(42/49): loss=0.5626233004111243\n",
      "Stochastic Gradient Descent(43/49): loss=0.13359272367608999\n",
      "Stochastic Gradient Descent(44/49): loss=0.5258194678062257\n",
      "Stochastic Gradient Descent(45/49): loss=1.5994249736000345\n",
      "Stochastic Gradient Descent(46/49): loss=0.4916872407771211\n",
      "Stochastic Gradient Descent(47/49): loss=0.2995082737748714\n",
      "Stochastic Gradient Descent(48/49): loss=0.4177014875363896\n",
      "Stochastic Gradient Descent(49/49): loss=0.21527261315798776\n",
      "Training accuracy: 0.659440\n",
      "Validation accuracy: 0.660080\n"
     ]
    }
   ],
   "source": [
    "tX = standardize(tX)\n",
    "y_train, y_val, tX_train, tX_val = train_val_split(y, tX, 0.2)\n",
    "weights, loss = least_squares_SGD(y_train, tX_train, np.zeros(tX_train.shape[1]), 50, 0.01)\n",
    "y_train_pred = predict_labels(weights, tX_train)\n",
    "y_val_pred = predict_labels(weights, tX_val)\n",
    "print(\"Training accuracy: {:3f}\".format(compute_accuracy(y_train, y_train_pred)))\n",
    "print(\"Validation accuracy: {:3f}\".format(compute_accuracy(y_val, y_val_pred)))"
   ]
  },
  {
   "cell_type": "markdown",
   "metadata": {},
   "source": [
    "## Generate predictions and save ouput in csv format for submission:"
   ]
  },
  {
   "cell_type": "code",
   "execution_count": 24,
   "metadata": {
    "collapsed": false
   },
   "outputs": [],
   "source": [
    "DATA_TEST_PATH = '../data/test.csv' # TODO: download train data and supply path here \n",
    "_, tX_test, ids_test = load_csv_data(DATA_TEST_PATH)"
   ]
  },
  {
   "cell_type": "code",
   "execution_count": 25,
   "metadata": {
    "collapsed": false
   },
   "outputs": [],
   "source": [
    "OUTPUT_PATH = 'gd.csv' # TODO: fill in desired name of output file for submission\n",
    "y_pred = predict_labels(weights, tX_test)\n",
    "create_csv_submission(ids_test, y_pred, OUTPUT_PATH)"
   ]
  },
  {
   "cell_type": "code",
   "execution_count": null,
   "metadata": {
    "collapsed": true
   },
   "outputs": [],
   "source": []
  }
 ],
 "metadata": {
  "anaconda-cloud": {},
  "kernelspec": {
   "display_name": "Python 3",
   "language": "python",
   "name": "python3"
  },
  "language_info": {
   "codemirror_mode": {
    "name": "ipython",
    "version": 3
   },
   "file_extension": ".py",
   "mimetype": "text/x-python",
   "name": "python",
   "nbconvert_exporter": "python",
   "pygments_lexer": "ipython3",
   "version": "3.7.3"
  }
 },
 "nbformat": 4,
 "nbformat_minor": 2
}
