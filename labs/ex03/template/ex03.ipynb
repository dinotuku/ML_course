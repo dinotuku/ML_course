{
 "cells": [
  {
   "cell_type": "code",
   "execution_count": 1,
   "metadata": {
    "collapsed": true
   },
   "outputs": [],
   "source": [
    "# Useful starting lines\n",
    "%matplotlib inline\n",
    "import numpy as np\n",
    "import matplotlib.pyplot as plt\n",
    "%load_ext autoreload\n",
    "%autoreload 2"
   ]
  },
  {
   "cell_type": "markdown",
   "metadata": {},
   "source": [
    "# 1 Least squares and linear basis functions models\n",
    "## 1.1 Least squares"
   ]
  },
  {
   "cell_type": "code",
   "execution_count": 2,
   "metadata": {
    "collapsed": true
   },
   "outputs": [],
   "source": [
    "def least_squares(y, tx):\n",
    "    \"\"\"calculate the least squares solution.\"\"\"\n",
    "    lt = np.dot(tx.T, tx)\n",
    "    rt = np.dot(tx.T, y)\n",
    "    # solve seems to work better than inv?\n",
    "    opt_weights = np.linalg.solve(lt, rt)\n",
    "    return opt_weights"
   ]
  },
  {
   "cell_type": "markdown",
   "metadata": {},
   "source": [
    "### Load the data\n",
    "Here we will reuse the dataset `height_weight_genders.csv` from previous exercise section to check the correctness of your implementation. Please compare it with your previous result."
   ]
  },
  {
   "cell_type": "code",
   "execution_count": 3,
   "metadata": {},
   "outputs": [],
   "source": [
    "from helpers import *\n",
    "from grid_search import *\n",
    "from costs import compute_mse\n",
    "def test_your_least_squares():\n",
    "    height, weight, gender = load_data_from_ex02(sub_sample=False, add_outlier=False)\n",
    "    x, mean_x, std_x = standardize(height)\n",
    "    y, tx = build_model_data(x, weight)\n",
    "\n",
    "    # Generate the grid of parameters to be swept\n",
    "    grid_w0, grid_w1 = generate_w(num_intervals=10)\n",
    "\n",
    "    # Start the grid search\n",
    "    grid_losses = grid_search(y, tx, grid_w0, grid_w1)\n",
    "\n",
    "    # Select the best combinaison\n",
    "    loss_star, w0_star, w1_star = get_best_parameters(grid_w0, grid_w1, grid_losses)\n",
    "\n",
    "    # Print the results\n",
    "    print(\"Grid Search: loss*={l}, w0*={w0}, w1*={w1}\".format(\n",
    "          l=loss_star, w0=w0_star, w1=w1_star))\n",
    "    \n",
    "    # least squares\n",
    "    ls_w = least_squares(y, tx)\n",
    "    ls_loss = compute_mse(y, tx, ls_w)\n",
    "    print(\"Least Squares: loss*={l}, w0*={w0}, w1*={w1}\".format(\n",
    "          l=ls_loss, w0=ls_w[0], w1=ls_w[1]))"
   ]
  },
  {
   "cell_type": "markdown",
   "metadata": {},
   "source": [
    "Test it here"
   ]
  },
  {
   "cell_type": "code",
   "execution_count": 4,
   "metadata": {},
   "outputs": [
    {
     "name": "stdout",
     "output_type": "stream",
     "text": [
      "Grid Search: loss*=42.42448314678248, w0*=66.66666666666669, w1*=16.666666666666686\n",
      "Least Squares: loss*=15.3858878688294, w0*=73.29392200210505, w1*=13.479712434989228\n"
     ]
    }
   ],
   "source": [
    "test_your_least_squares()"
   ]
  },
  {
   "cell_type": "markdown",
   "metadata": {},
   "source": [
    "## 1.2 Least squares with a linear basis function model\n",
    "Start from this section, we will use the dataset `dataEx3.csv`.\n",
    "\n",
    "### Implement polynomial basis functions"
   ]
  },
  {
   "cell_type": "code",
   "execution_count": 5,
   "metadata": {
    "scrolled": true
   },
   "outputs": [
    {
     "name": "stdout",
     "output_type": "stream",
     "text": [
      "shape of x (50,)\n",
      "shape of y (50,)\n"
     ]
    }
   ],
   "source": [
    "# load dataset\n",
    "x, y = load_data()\n",
    "print(\"shape of x {}\".format(x.shape))\n",
    "print(\"shape of y {}\".format(y.shape))"
   ]
  },
  {
   "cell_type": "code",
   "execution_count": 6,
   "metadata": {
    "collapsed": true
   },
   "outputs": [],
   "source": [
    "def build_poly(x, degree):\n",
    "    \"\"\"polynomial basis functions for input data x, for j=0 up to j=degree.\"\"\"\n",
    "    poly = np.zeros((len(x), degree + 1))\n",
    "    for i in range(0, degree + 1):\n",
    "        poly[:, i] = np.power(x, i)\n",
    "    return poly"
   ]
  },
  {
   "cell_type": "markdown",
   "metadata": {},
   "source": [
    "Let us play with polynomial regression. Note that we will use your implemented function `compute_mse`. Please copy and paste your implementation from exercise02."
   ]
  },
  {
   "cell_type": "code",
   "execution_count": 7,
   "metadata": {
    "collapsed": true
   },
   "outputs": [],
   "source": [
    "from plots import *\n",
    "\n",
    "def polynomial_regression():\n",
    "    \"\"\"Constructing the polynomial basis function expansion of the data,\n",
    "       and then running least squares regression.\"\"\"\n",
    "    # define parameters\n",
    "    degrees = [1, 3, 7, 12]\n",
    "    \n",
    "    # define the structure of the figure\n",
    "    num_row = 2\n",
    "    num_col = 2\n",
    "    f, axs = plt.subplots(num_row, num_col)\n",
    "\n",
    "    for ind, degree in enumerate(degrees):\n",
    "        poly = build_poly(x, degree)\n",
    "        \n",
    "        weights = least_squares(y, poly)\n",
    "        mse = compute_mse(y, poly, weights)\n",
    "        rmse = np.sqrt(2 * mse)\n",
    "\n",
    "        print(\"Processing {i}th experiment, degree={d}, rmse={loss}\".format(\n",
    "              i=ind + 1, d=degree, loss=rmse))\n",
    "        # plot fit\n",
    "        plot_fitted_curve(\n",
    "            y, x, weights, degree, axs[ind // num_col][ind % num_col])\n",
    "    plt.tight_layout()\n",
    "    plt.savefig(\"visualize_polynomial_regression\")\n",
    "    plt.show()"
   ]
  },
  {
   "cell_type": "markdown",
   "metadata": {},
   "source": [
    "Run polynomial regression"
   ]
  },
  {
   "cell_type": "code",
   "execution_count": 8,
   "metadata": {},
   "outputs": [
    {
     "name": "stdout",
     "output_type": "stream",
     "text": [
      "Processing 1th experiment, degree=1, rmse=0.47187607963421874\n",
      "Processing 2th experiment, degree=3, rmse=0.25858277667737484\n",
      "Processing 3th experiment, degree=7, rmse=0.24965870360907552\n",
      "Processing 4th experiment, degree=12, rmse=0.24328247481248672\n"
     ]
    },
    {
     "data": {
      "image/png": "[encoded data removed]",
      "text/plain": [
       "<Figure size 432x288 with 4 Axes>"
      ]
     },
     "metadata": {
      "needs_background": "light"
     },
     "output_type": "display_data"
    }
   ],
   "source": [
    "polynomial_regression()"
   ]
  },
  {
   "cell_type": "markdown",
   "metadata": {},
   "source": [
    "# 2 Evaluating model predication performance\n",
    "\n",
    "\n",
    "Let us show the train and test splits for various polynomial degrees. First of all, please fill in the function `split_data()`"
   ]
  },
  {
   "cell_type": "code",
   "execution_count": 9,
   "metadata": {
    "collapsed": true
   },
   "outputs": [],
   "source": [
    "def split_data(x, y, ratio, seed=1):\n",
    "    \"\"\"\n",
    "    split the dataset based on the split ratio. If ratio is 0.8 \n",
    "    you will have 80% of your data set dedicated to training \n",
    "    and the rest dedicated to testing\n",
    "    \"\"\"\n",
    "    # set seed\n",
    "    np.random.seed(seed)\n",
    "    indices = np.random.permutation(len(x))\n",
    "    tr_end_idx = int(len(x) * ratio)\n",
    "    # split dataset\n",
    "    x_tr = x[:tr_end_idx]\n",
    "    x_te = x[tr_end_idx:]\n",
    "    y_tr = y[:tr_end_idx]\n",
    "    y_te = y[tr_end_idx:]\n",
    "    return x_tr, x_te, y_tr, y_te"
   ]
  },
  {
   "cell_type": "markdown",
   "metadata": {},
   "source": [
    "Then, test your `split_data` function below."
   ]
  },
  {
   "cell_type": "code",
   "execution_count": 10,
   "metadata": {
    "collapsed": true
   },
   "outputs": [],
   "source": [
    "def train_test_split_demo(x, y, degree, ratio, seed):\n",
    "    \"\"\"polynomial regression with different split ratios and different degrees.\"\"\"\n",
    "    # split the data, and return train and test data\n",
    "    x_tr, x_te, y_tr, y_te = split_data(x, y, ratio, seed)\n",
    "    \n",
    "    # form train and test data with polynomial basis function\n",
    "    x_tr = build_poly(x_tr, degree)\n",
    "    x_te = build_poly(x_te, degree)\n",
    "    \n",
    "    # calcualte weight through least square\n",
    "    weights = least_squares(y_tr, x_tr)\n",
    "\n",
    "    # calculate RMSE for train and test data\n",
    "    mse_tr = compute_mse(y_tr, x_tr, weights)\n",
    "    mse_te = compute_mse(y_te, x_te, weights)\n",
    "    rmse_tr = np.sqrt(2 * mse_tr)\n",
    "    rmse_te = np.sqrt(2 * mse_te)\n",
    "    print(\"proportion={p}, degree={d}, Training RMSE={tr:.3f}, Testing RMSE={te:.3f}\".format(\n",
    "          p=ratio, d=degree, tr=rmse_tr, te=rmse_te))\n"
   ]
  },
  {
   "cell_type": "code",
   "execution_count": 11,
   "metadata": {
    "collapsed": true
   },
   "outputs": [
    {
     "name": "stdout",
     "output_type": "stream",
     "text": [
      "proportion=0.9, degree=1, Training RMSE=0.488, Testing RMSE=0.296\n",
      "proportion=0.9, degree=3, Training RMSE=0.266, Testing RMSE=0.194\n",
      "proportion=0.9, degree=7, Training RMSE=0.257, Testing RMSE=0.186\n",
      "proportion=0.9, degree=12, Training RMSE=0.250, Testing RMSE=0.169\n",
      "proportion=0.5, degree=1, Training RMSE=0.458, Testing RMSE=0.547\n",
      "proportion=0.5, degree=3, Training RMSE=0.261, Testing RMSE=0.267\n",
      "proportion=0.5, degree=7, Training RMSE=0.232, Testing RMSE=0.313\n",
      "proportion=0.5, degree=12, Training RMSE=0.173, Testing RMSE=0.395\n",
      "proportion=0.1, degree=1, Training RMSE=0.597, Testing RMSE=0.497\n",
      "proportion=0.1, degree=3, Training RMSE=0.027, Testing RMSE=0.447\n",
      "proportion=0.1, degree=7, Training RMSE=0.000, Testing RMSE=5.309\n",
      "proportion=0.1, degree=12, Training RMSE=0.000, Testing RMSE=39.964\n"
     ]
    }
   ],
   "source": [
    "seed = 6\n",
    "degrees = [1, 3, 7, 12]\n",
    "split_ratios = [0.9, 0.5, 0.1]\n",
    "\n",
    "for split_ratio in split_ratios:\n",
    "    for degree in degrees:\n",
    "        train_test_split_demo(x, y, degree, split_ratio, seed)"
   ]
  },
  {
   "cell_type": "markdown",
   "metadata": {},
   "source": [
    "# 3 Ridge Regression\n",
    "Please fill in the function below."
   ]
  },
  {
   "cell_type": "code",
   "execution_count": 12,
   "metadata": {
    "collapsed": true
   },
   "outputs": [],
   "source": [
    "def ridge_regression(y, tx, lambda_):\n",
    "    \"\"\"implement ridge regression.\"\"\"\n",
    "    reg = 2 * len(tx) * lambda_ * np.identity(tx.shape[1])\n",
    "    lt = np.dot(tx.T, tx) + reg\n",
    "    rt = np.dot(tx.T, y)\n",
    "    # solve seems to work better than inv?\n",
    "    opt_weights = np.linalg.solve(lt, rt)\n",
    "    return opt_weights"
   ]
  },
  {
   "cell_type": "code",
   "execution_count": 13,
   "metadata": {
    "collapsed": true
   },
   "outputs": [],
   "source": [
    "def ridge_regression_demo(x, y, degree, ratio, seed):\n",
    "    \"\"\"ridge regression demo.\"\"\"\n",
    "    # define parameter\n",
    "    lambdas = np.logspace(-5, 0, 15)\n",
    "    # split the data\n",
    "    x_tr, x_te, y_tr, y_te = split_data(x, y, ratio, seed)\n",
    "    \n",
    "    # form train and test data with polynomial basis function\n",
    "    x_tr = build_poly(x_tr, degree)\n",
    "    x_te = build_poly(x_te, degree)\n",
    "\n",
    "    rmse_tr = []\n",
    "    rmse_te = []\n",
    "    for ind, lambda_ in enumerate(lambdas):\n",
    "        # calcualte weight through least square\n",
    "        weights = ridge_regression(y_tr, x_tr, lambda_)\n",
    "\n",
    "        # calculate RMSE for train and test data\n",
    "        mse_tr = compute_mse(y_tr, x_tr, weights)\n",
    "        mse_te = compute_mse(y_te, x_te, weights)\n",
    "        rmse_tr.append(np.sqrt(2 * mse_tr))\n",
    "        rmse_te.append(np.sqrt(2 * mse_te))\n",
    "        print(\"proportion={p}, degree={d}, lambda={l:.3f}, Training RMSE={tr:.3f}, Testing RMSE={te:.3f}\".format(\n",
    "               p=ratio, d=degree, l=lambda_, tr=rmse_tr[ind], te=rmse_te[ind]))\n",
    "        \n",
    "    # Plot the obtained results\n",
    "    plot_train_test(rmse_tr, rmse_te, lambdas, degree)"
   ]
  },
  {
   "cell_type": "code",
   "execution_count": 14,
   "metadata": {
    "collapsed": true
   },
   "outputs": [
    {
     "name": "stdout",
     "output_type": "stream",
     "text": [
      "proportion=0.5, degree=7, lambda=0.000, Training RMSE=0.233, Testing RMSE=0.303\n",
      "proportion=0.5, degree=7, lambda=0.000, Training RMSE=0.235, Testing RMSE=0.296\n",
      "proportion=0.5, degree=7, lambda=0.000, Training RMSE=0.238, Testing RMSE=0.288\n",
      "proportion=0.5, degree=7, lambda=0.000, Training RMSE=0.242, Testing RMSE=0.282\n",
      "proportion=0.5, degree=7, lambda=0.000, Training RMSE=0.245, Testing RMSE=0.279\n",
      "proportion=0.5, degree=7, lambda=0.001, Training RMSE=0.247, Testing RMSE=0.277\n",
      "proportion=0.5, degree=7, lambda=0.001, Training RMSE=0.248, Testing RMSE=0.275\n",
      "proportion=0.5, degree=7, lambda=0.003, Training RMSE=0.249, Testing RMSE=0.274\n",
      "proportion=0.5, degree=7, lambda=0.007, Training RMSE=0.250, Testing RMSE=0.272\n",
      "proportion=0.5, degree=7, lambda=0.016, Training RMSE=0.251, Testing RMSE=0.269\n",
      "proportion=0.5, degree=7, lambda=0.037, Training RMSE=0.256, Testing RMSE=0.266\n",
      "proportion=0.5, degree=7, lambda=0.085, Training RMSE=0.268, Testing RMSE=0.268\n",
      "proportion=0.5, degree=7, lambda=0.193, Training RMSE=0.297, Testing RMSE=0.280\n",
      "proportion=0.5, degree=7, lambda=0.439, Training RMSE=0.340, Testing RMSE=0.305\n",
      "proportion=0.5, degree=7, lambda=1.000, Training RMSE=0.381, Testing RMSE=0.335\n"
     ]
    },
    {
     "data": {
      "image/png": "[encoded data removed]",
      "text/plain": [
       "<Figure size 432x288 with 1 Axes>"
      ]
     },
     "metadata": {
      "needs_background": "light"
     },
     "output_type": "display_data"
    }
   ],
   "source": [
    "seed = 56\n",
    "degree = 7\n",
    "split_ratio = 0.5\n",
    "ridge_regression_demo(x, y, degree, split_ratio, seed)\n",
    "# best Testing RMSE=0.266 when lambda=0.037\n",
    "# better than the case without lambda (lambda=0, without regularization term)"
   ]
  }
 ],
 "metadata": {
  "anaconda-cloud": {},
  "kernelspec": {
   "display_name": "Python 3",
   "language": "python",
   "name": "python3"
  },
  "language_info": {
   "codemirror_mode": {
    "name": "ipython",
    "version": 3
   },
   "file_extension": ".py",
   "mimetype": "text/x-python",
   "name": "python",
   "nbconvert_exporter": "python",
   "pygments_lexer": "ipython3",
   "version": "3.7.3"
  }
 },
 "nbformat": 4,
 "nbformat_minor": 2
}
